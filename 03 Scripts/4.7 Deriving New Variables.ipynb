{
 "cells": [
  {
   "cell_type": "markdown",
   "id": "43ef7ef4-3aed-48b1-b55f-fa504535d3f4",
   "metadata": {},
   "source": [
    "## 01. Import Libraries"
   ]
  },
  {
   "cell_type": "code",
   "execution_count": null,
   "id": "54e879cc-f484-4eca-aef7-32e8720761c9",
   "metadata": {},
   "outputs": [],
   "source": [
    "# Impoting Libraries\n",
    "import pandas as pd\n",
    "import numpy as np\n",
    "import os"
   ]
  },
  {
   "cell_type": "markdown",
   "id": "126a74a3-6cd5-4e47-b9ac-6c21d2f3998a",
   "metadata": {},
   "source": [
    "## 02. Import Data"
   ]
  },
  {
   "cell_type": "code",
   "execution_count": null,
   "id": "7ca0974e-6821-4e2b-bc27-2e6527532b89",
   "metadata": {},
   "outputs": [],
   "source": [
    "# Importing Data\n",
    "path = r'C:\\Users\\Dell\\Documents\\Instacart Basket Analysis'"
   ]
  },
  {
   "cell_type": "code",
   "execution_count": null,
   "id": "6fdc32fb-5d38-48ea-9ea4-cb62a4c208c3",
   "metadata": {},
   "outputs": [],
   "source": [
    "df_ords_prods_merged = pd.read_pickle(os.path.join(path, '02 Data', 'Prepared Data', 'orders_products_merged.pkl'))"
   ]
  },
  {
   "cell_type": "markdown",
   "id": "02015393-4eec-4e6e-8541-b04a17696fbd",
   "metadata": {},
   "source": [
    "## 03. Creating a 'price_label' column"
   ]
  },
  {
   "cell_type": "code",
   "execution_count": null,
   "id": "7ea9723f-86e9-422e-bda1-2ec01e9adda9",
   "metadata": {},
   "outputs": [],
   "source": [
    "#Creating a subset of first million rows of df_ords_prods_merged\n",
    "df = df_ords_prods_merged[:1000000]"
   ]
  },
  {
   "cell_type": "code",
   "execution_count": null,
   "id": "7820d1fa-4e9d-493c-baa9-3148fc736d02",
   "metadata": {},
   "outputs": [],
   "source": [
    "# define a funtion for price_label\n",
    "def price_label(row):\n",
    "\n",
    "  if row['prices'] <= 5:\n",
    "    return 'Low-range product'\n",
    "  elif (row['prices'] > 5) and (row['prices'] <= 15):\n",
    "    return 'Mid-range product'\n",
    "  elif row['prices'] > 15:\n",
    "    return 'High range'\n",
    "  else: return 'Not enough data'"
   ]
  },
  {
   "cell_type": "code",
   "execution_count": null,
   "id": "f48c12ef-5bc4-4ea8-9a6e-8b57c01955f1",
   "metadata": {
    "scrolled": true
   },
   "outputs": [],
   "source": [
    "# Apply the function\n",
    "df['price_range'] = df.apply(price_label, axis=1)"
   ]
  },
  {
   "cell_type": "markdown",
   "id": "3305f250-898b-4219-95ff-412ceba9e2e6",
   "metadata": {},
   "source": [
    "#### Python suggest the loc() method instead of user-defined function"
   ]
  },
  {
   "cell_type": "code",
   "execution_count": null,
   "id": "67990489-e579-41ac-a5da-688f1b1a30ea",
   "metadata": {},
   "outputs": [],
   "source": [
    "df['price_range'].value_counts(dropna = False)"
   ]
  },
  {
   "cell_type": "code",
   "execution_count": null,
   "id": "f52c563b-0048-4f77-9505-08d695c7db37",
   "metadata": {},
   "outputs": [],
   "source": [
    "# # Find most expensive product.\n",
    "df['prices'].max()"
   ]
  },
  {
   "cell_type": "code",
   "execution_count": null,
   "id": "db21b975-1f2c-484a-885b-0e7dd8a898da",
   "metadata": {},
   "outputs": [],
   "source": [
    "# Use loc() method on df subset to apply price range function.\n",
    "df.loc[df['prices'] > 15, 'price_range_loc'] ='High-range product'"
   ]
  },
  {
   "cell_type": "code",
   "execution_count": null,
   "id": "8df13337-1b75-4654-b90c-1e7a3c53ebd4",
   "metadata": {},
   "outputs": [],
   "source": [
    "df.loc[(df['prices'] <= 15) & (df['prices'] > 5), 'price_range_loc'] = 'Mid-range product'"
   ]
  },
  {
   "cell_type": "code",
   "execution_count": null,
   "id": "dd9b8247-b5bc-445f-ac01-58028baf0f90",
   "metadata": {},
   "outputs": [],
   "source": [
    "df.loc[df['prices'] <= 5, 'price_range_loc'] = 'Low-range product'"
   ]
  },
  {
   "cell_type": "code",
   "execution_count": null,
   "id": "d55781b7-37c6-49e6-992a-0bfbdc30f4ce",
   "metadata": {
    "scrolled": true
   },
   "outputs": [],
   "source": [
    "df['price_range_loc'].value_counts(dropna = False)"
   ]
  },
  {
   "cell_type": "code",
   "execution_count": null,
   "id": "e159545a-e594-4904-be0c-e9778c7b58d5",
   "metadata": {},
   "outputs": [],
   "source": [
    "# Use loc() method on entire ords_prods_merge dataframe to apply price range function.\n",
    "df_ords_prods_merged.loc[df_ords_prods_merged['prices'] > 15, 'price_range_loc'] = 'High-range product'"
   ]
  },
  {
   "cell_type": "code",
   "execution_count": null,
   "id": "63439a01-52ed-46e7-9c78-6d3b4dbc8a76",
   "metadata": {},
   "outputs": [],
   "source": [
    "df_ords_prods_merged.loc[(df_ords_prods_merged['prices'] <= 15) & (df_ords_prods_merged['prices'] > 5), 'price_range_loc'] = 'Mid-range product'"
   ]
  },
  {
   "cell_type": "code",
   "execution_count": null,
   "id": "6a2be9eb-063e-4755-98a4-ec7dc073894a",
   "metadata": {},
   "outputs": [],
   "source": [
    "df_ords_prods_merged.loc[df_ords_prods_merged['prices'] <= 5, 'price_range_loc'] = 'Low-range product'"
   ]
  },
  {
   "cell_type": "code",
   "execution_count": null,
   "id": "37c6d089-bde9-403d-91e8-3c985a3ddcd8",
   "metadata": {
    "scrolled": true
   },
   "outputs": [],
   "source": [
    "df_ords_prods_merged['price_range_loc'].value_counts(dropna = False)"
   ]
  },
  {
   "cell_type": "markdown",
   "id": "7afce119-26dd-4f40-ae72-008bdc6bc74b",
   "metadata": {},
   "source": [
    "## 04. Create 'Busiestday' column"
   ]
  },
  {
   "cell_type": "code",
   "execution_count": null,
   "id": "966701bb-8198-4ee1-b724-c848f34c73d5",
   "metadata": {
    "scrolled": true
   },
   "outputs": [],
   "source": [
    "# Find frequency of orders_day_of_week.\n",
    "df_ords_prods_merged['orders_day_of_week'].value_counts(dropna = False)"
   ]
  },
  {
   "cell_type": "code",
   "execution_count": null,
   "id": "3606427a-74c7-4342-bfcb-ab8daa4ecb18",
   "metadata": {},
   "outputs": [],
   "source": [
    "# Use for-loop to determine whether orders are on \"busiest day\" (0 = Saturday), \"least busy\" (4 = Wednesday), or \"regularly busy\" (other days of the week).\n",
    "\n",
    "result = []\n",
    "\n",
    "for value in df_ords_prods_merged[\"orders_day_of_week\"]:\n",
    "  if value == 0:\n",
    "    result.append(\"Busiest day\")\n",
    "  elif value == 4:\n",
    "    result.append(\"Least busy\")\n",
    "  else:\n",
    "    result.append(\"Regularly busy\")"
   ]
  },
  {
   "cell_type": "code",
   "execution_count": null,
   "id": "6092a0ad-07fb-4764-a590-4a2c7d844430",
   "metadata": {},
   "outputs": [],
   "source": [
    "result"
   ]
  },
  {
   "cell_type": "code",
   "execution_count": null,
   "id": "440a72c7-224d-43df-9d7d-211ddd5f175f",
   "metadata": {},
   "outputs": [],
   "source": [
    "# Create new column in ords_prods_merged \n",
    "df_ords_prods_merged['busiest_day'] = result"
   ]
  },
  {
   "cell_type": "code",
   "execution_count": null,
   "id": "95d9c2e9-a345-42f6-b9dd-86820ec5f5b8",
   "metadata": {},
   "outputs": [],
   "source": [
    "df_ords_prods_merged['busiest_day'].value_counts(dropna = False)"
   ]
  },
  {
   "cell_type": "markdown",
   "id": "ddc0a86e-6a28-4f6e-9664-dcf76a11309c",
   "metadata": {},
   "source": [
    "## 05. Update the 'busiest day' column to 'busiest days'column, correspond with the two busiest and two slowest days"
   ]
  },
  {
   "cell_type": "code",
   "execution_count": null,
   "id": "a4a5ad83-c4ff-4883-b521-f7b3627d6257",
   "metadata": {},
   "outputs": [],
   "source": [
    "# Create column “busiest_days\" from \"orders_day_of_week\" to identify two busiest days (0, 1), slowest days (4, 3), or regularly busy (all other days).\n",
    "result_1 = []\n",
    "\n",
    "for value in df_ords_prods_merged[\"orders_day_of_week\"]:\n",
    "  if value == 0 or value == 1:\n",
    "    result_1.append(\"Busiest days\")\n",
    "  elif value == 4 or value == 3:\n",
    "    result_1.append(\"Slowest days\")\n",
    "  else:\n",
    "    result_1.append(\"Regularly busy\")"
   ]
  },
  {
   "cell_type": "code",
   "execution_count": null,
   "id": "110c5e79-3aae-4782-9562-b7a78b8ac632",
   "metadata": {},
   "outputs": [],
   "source": [
    "result_1"
   ]
  },
  {
   "cell_type": "code",
   "execution_count": null,
   "id": "1074e978-6b70-44fc-8801-73a6a16a69b0",
   "metadata": {},
   "outputs": [],
   "source": [
    "# Create new 'busiest_days' column in ords_prods_merge \n",
    "df_ords_prods_merged['busiest_days'] = result_1"
   ]
  },
  {
   "cell_type": "code",
   "execution_count": null,
   "id": "b3b28d7b-90c1-40f8-a28d-1fa0fdc8b391",
   "metadata": {},
   "outputs": [],
   "source": [
    "df_ords_prods_merged['busiest_days'].value_counts(dropna = False)"
   ]
  },
  {
   "cell_type": "code",
   "execution_count": null,
   "id": "9f7acd71-4f6b-4616-9b0e-6ba260e441f5",
   "metadata": {},
   "outputs": [],
   "source": [
    "# Checking the  output of ords_prods_merged with new \"busiest days\" column.\n",
    "df_ords_prods_merged.head()"
   ]
  },
  {
   "cell_type": "markdown",
   "id": "4d2c5ba9-13cc-4be2-a23d-0fc896ce6b42",
   "metadata": {},
   "source": [
    "#### \n",
    "The recently added \"busiest dasy\" column in our dataframe corresponds to the total sum of orders made on each day of the week. For instance, if the busiest day is 11,864,412, it's derived from the combined sum of orders made on days 0 and 1 (representing orders_day_of_week), which amounts to 6,204,182 and 5,660,230 respectively."
   ]
  },
  {
   "cell_type": "markdown",
   "id": "ae1f5e31-92a4-418a-b1d6-0c7ad7c7c1fa",
   "metadata": {},
   "source": [
    "## 06. Create new column \"busiest_period_of_day\" to identify time periods “Most orders,” “Average orders,” and “Fewest orders.”"
   ]
  },
  {
   "cell_type": "code",
   "execution_count": null,
   "id": "f352927f-d728-41d0-9581-7ae3484fc65a",
   "metadata": {},
   "outputs": [],
   "source": [
    "# Check value counts in \"order_hour_of_day\" column.\n",
    "df_ords_prods_merged['order_hour_of_day'].value_counts()"
   ]
  },
  {
   "cell_type": "markdown",
   "id": "a20ecb60-b9df-46bd-977c-5f9fe2f4a20e",
   "metadata": {},
   "source": [
    "### The value counts listed above will be split into 3 equal parts for the following labels: \"Most orders\" = 10, 11, 14, 15, 13, 12, 16, and 9; \"Fewest orders\" = 23, 6, 0, 1, 5, 2, 4, and 3; \"Average orders\" = all remaining values in order_hour_of_day."
   ]
  },
  {
   "cell_type": "code",
   "execution_count": null,
   "id": "35e6c441-0243-4745-a9ad-a2a028ed9c19",
   "metadata": {},
   "outputs": [],
   "source": [
    "# Create if statement with for loop for  labeling periods of time as “Most orders,” “Average orders,” and “Fewest orders.”\n",
    "result_2 = []\n",
    "\n",
    "for value in df_ords_prods_merged[\"order_hour_of_day\"]:\n",
    "  if value in [10, 11, 14, 15, 13, 12, 16, 9]:\n",
    "    result_2.append(\"Most orders\")\n",
    "  elif value in [23, 6, 0, 1, 5, 2, 4, 3]:\n",
    "    result_2.append(\"Fewest orders\")\n",
    "  else:\n",
    "    result_2.append(\"Average orders\")"
   ]
  },
  {
   "cell_type": "code",
   "execution_count": null,
   "id": "357b65bd-6d52-4e3c-9079-3f5f73e05fb7",
   "metadata": {},
   "outputs": [],
   "source": [
    "result_2"
   ]
  },
  {
   "cell_type": "code",
   "execution_count": null,
   "id": "3f0c9a93-ea4b-4cc4-a933-2d2501780b35",
   "metadata": {},
   "outputs": [],
   "source": [
    "# Create new column \"busiest_period_of_day\" in ords_prods_merged\n",
    "df_ords_prods_merged['busiest_period_of_day'] = result_2"
   ]
  },
  {
   "cell_type": "code",
   "execution_count": null,
   "id": "b15f863f-aeca-4ed0-86d6-480d3893366c",
   "metadata": {},
   "outputs": [],
   "source": [
    "# Print value counts in \"busiest_period_of_day\" column.\n",
    "df_ords_prods_merged['busiest_period_of_day'].value_counts(dropna = False)"
   ]
  },
  {
   "cell_type": "markdown",
   "id": "00af31f8-5b48-493b-925d-a3bc7af9f066",
   "metadata": {},
   "source": [
    "## 07. Export Data File as Pickle format\n"
   ]
  },
  {
   "cell_type": "code",
   "execution_count": null,
   "id": "79de3a92-ba63-4dec-b010-58832c58f0ac",
   "metadata": {},
   "outputs": [],
   "source": [
    "# Export data as pickle format to Prepared Data\n",
    "df_ords_prods_merged.to_pickle(os.path.join(path, '02 Data', 'Prepared Data', 'orders_products_merged_derived.pkl'))"
   ]
  },
  {
   "cell_type": "code",
   "execution_count": null,
   "id": "937ba770-dd5d-4707-83d7-a9b99599c5be",
   "metadata": {},
   "outputs": [],
   "source": []
  }
 ],
 "metadata": {
  "kernelspec": {
   "display_name": "Python 3 (ipykernel)",
   "language": "python",
   "name": "python3"
  },
  "language_info": {
   "codemirror_mode": {
    "name": "ipython",
    "version": 3
   },
   "file_extension": ".py",
   "mimetype": "text/x-python",
   "name": "python",
   "nbconvert_exporter": "python",
   "pygments_lexer": "ipython3",
   "version": "3.11.7"
  }
 },
 "nbformat": 4,
 "nbformat_minor": 5
}
