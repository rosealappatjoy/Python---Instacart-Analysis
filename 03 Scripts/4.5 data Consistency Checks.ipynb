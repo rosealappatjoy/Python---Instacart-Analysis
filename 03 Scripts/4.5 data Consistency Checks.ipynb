{
 "cells": [
  {
   "cell_type": "markdown",
   "id": "71964a07-6626-40d7-a0f1-27ba0da2519c",
   "metadata": {},
   "source": [
    "# 01. Importing libraries"
   ]
  },
  {
   "cell_type": "code",
   "execution_count": null,
   "id": "82d4911b-a79b-44eb-a561-b0c24175f1a7",
   "metadata": {},
   "outputs": [],
   "source": [
    "# Import Libraries\n",
    "import pandas as pd\n",
    "import numpy as np\n",
    "import os"
   ]
  },
  {
   "cell_type": "markdown",
   "id": "cea0f6e1-c7a7-4c80-a2ae-5fa00b4ed4bd",
   "metadata": {},
   "source": [
    "# 02 Importing data sets"
   ]
  },
  {
   "cell_type": "code",
   "execution_count": null,
   "id": "7e7c22a0-8a00-4094-ae40-d47a73c7781f",
   "metadata": {},
   "outputs": [],
   "source": [
    "# Telling Python to remember a main folder path\n",
    "path = r'C:\\Users\\dell\\Documents\\Instacart Basket Analysis'\n",
    "path"
   ]
  },
  {
   "cell_type": "code",
   "execution_count": null,
   "id": "fec8633c-da8e-4412-8dd1-de99903051a1",
   "metadata": {},
   "outputs": [],
   "source": [
    "# Importing the data set products.csv\n",
    "df_prods = pd.read_csv(os.path.join(path, '02 Data', 'Original Data', 'products.csv'), index_col = False)"
   ]
  },
  {
   "cell_type": "code",
   "execution_count": null,
   "id": "a443c97e-6dbf-4dd5-8d4e-abf5894f5efc",
   "metadata": {},
   "outputs": [],
   "source": [
    "# Importing the data set orders_wrangled.csv\n",
    "df_ords = pd.read_csv(os.path.join(path, '02 Data', 'Prepared Data', 'orders_wrangled.csv'), index_col = False)"
   ]
  },
  {
   "cell_type": "markdown",
   "id": "2d70894b-c482-4521-8083-5002c3936947",
   "metadata": {},
   "source": [
    "# 03 Data Consistancy Checks"
   ]
  },
  {
   "cell_type": "code",
   "execution_count": null,
   "id": "f2307afe-ca0d-42db-bd01-7b20f76859d9",
   "metadata": {
    "scrolled": true
   },
   "outputs": [],
   "source": [
    "df_ords.describe()"
   ]
  },
  {
   "cell_type": "markdown",
   "id": "fd64b9c0-be6a-4ca4-835a-5500a5a77e93",
   "metadata": {},
   "source": [
    "### Mixed Type Data"
   ]
  },
  {
   "cell_type": "code",
   "execution_count": null,
   "id": "793f3e35-6d30-44e8-82c6-bb5650edb6fb",
   "metadata": {},
   "outputs": [],
   "source": [
    "# Create a Dataframe\n",
    "df_test = pd.DataFrame()"
   ]
  },
  {
   "cell_type": "code",
   "execution_count": null,
   "id": "a11b752c-a457-4ce9-8fa9-eba22c30e7d5",
   "metadata": {},
   "outputs": [],
   "source": [
    "# Create a mixed type column\n",
    "df_test['mix'] = ['a', 'b', 1, True]"
   ]
  },
  {
   "cell_type": "code",
   "execution_count": null,
   "id": "3f9982b4-7153-40c1-b085-8bca0443141b",
   "metadata": {},
   "outputs": [],
   "source": [
    "df_test.head()"
   ]
  },
  {
   "cell_type": "code",
   "execution_count": null,
   "id": "5bd56576-2ffa-4230-9898-72592c2cca53",
   "metadata": {},
   "outputs": [],
   "source": [
    "# Check for mixed types\n",
    "for col in df_test.columns.tolist():\n",
    "    weird= (df_test[[col]].map(type)!=df_test[[col]].iloc[0].apply(type)).any(axis=1)\n",
    "    if len (df_test[weird])>0:\n",
    "        print (col)"
   ]
  },
  {
   "cell_type": "code",
   "execution_count": null,
   "id": "3cb2c716-7d53-4162-9c4d-77054f0e34ec",
   "metadata": {},
   "outputs": [],
   "source": [
    "# Fix mixed-type column\n",
    "df_test['mix'] = df_test['mix'].astype('str')"
   ]
  },
  {
   "cell_type": "markdown",
   "id": "61c955a0-9232-4ff5-8343-59478f0ea243",
   "metadata": {},
   "source": [
    "### Missing Values"
   ]
  },
  {
   "cell_type": "code",
   "execution_count": null,
   "id": "ed38553d-36bc-41cb-b860-6d84ebba3b7f",
   "metadata": {},
   "outputs": [],
   "source": [
    "# Function to obtain the total missing observations\n",
    "df_prods.isnull().sum()"
   ]
  },
  {
   "cell_type": "code",
   "execution_count": null,
   "id": "9ad97bf3-9aaa-4955-8565-43b27900d596",
   "metadata": {},
   "outputs": [],
   "source": [
    "# Create a subset only containing missing values\n",
    "df_nan=df_prods [df_prods['product_name'].isnull()==True]"
   ]
  },
  {
   "cell_type": "code",
   "execution_count": null,
   "id": "133e0dcd-e2d1-4145-9418-c52c02c49d0e",
   "metadata": {},
   "outputs": [],
   "source": [
    "df_nan"
   ]
  },
  {
   "cell_type": "code",
   "execution_count": null,
   "id": "d7c43f5e-55d1-4710-9ad1-f05d4251fd13",
   "metadata": {},
   "outputs": [],
   "source": [
    "df_prods.shape"
   ]
  },
  {
   "cell_type": "code",
   "execution_count": null,
   "id": "88d2db04-91ec-4d20-8b28-b3b3d5aa338b",
   "metadata": {},
   "outputs": [],
   "source": [
    "# Create a subset containing only non-missing values\n",
    "df_prods_clean = df_prods[df_prods['product_name'].isnull() == False]"
   ]
  },
  {
   "cell_type": "code",
   "execution_count": null,
   "id": "ee79d288-3a02-417e-a969-fc036d8c8b59",
   "metadata": {},
   "outputs": [],
   "source": [
    "df_prods_clean.shape"
   ]
  },
  {
   "cell_type": "markdown",
   "id": "fc55014a-6770-41ad-aa6b-996ef3f0193a",
   "metadata": {},
   "source": [
    "### Duplicates"
   ]
  },
  {
   "cell_type": "code",
   "execution_count": null,
   "id": "75a29e1a-b998-407d-82fc-09ae67fd11df",
   "metadata": {},
   "outputs": [],
   "source": [
    "# Looking for the full duplicates in df_prods_clean\n",
    "df_dups= df_prods_clean[df_prods_clean.duplicated()]"
   ]
  },
  {
   "cell_type": "code",
   "execution_count": null,
   "id": "baade27e-2462-4703-979f-edaad6fcbe78",
   "metadata": {},
   "outputs": [],
   "source": [
    "df_dups"
   ]
  },
  {
   "cell_type": "code",
   "execution_count": null,
   "id": "1090cc12-2795-4c32-9716-fa797e82df9f",
   "metadata": {},
   "outputs": [],
   "source": [
    "df_prods_clean.shape"
   ]
  },
  {
   "cell_type": "code",
   "execution_count": null,
   "id": "b31c02e2-b14e-4c2e-b8f7-eeb4863ad6bd",
   "metadata": {},
   "outputs": [],
   "source": [
    "# Dropping the duplicate values by creating a new dataframe\n",
    "df_prods_clean_no_dups = df_prods_clean.drop_duplicates()"
   ]
  },
  {
   "cell_type": "code",
   "execution_count": null,
   "id": "03650f80-ca94-4c39-a521-25d9a7403d88",
   "metadata": {},
   "outputs": [],
   "source": [
    "df_prods_clean_no_dups.shape"
   ]
  },
  {
   "cell_type": "markdown",
   "id": "e1af566a-5262-48f1-adde-1654d1ceee87",
   "metadata": {},
   "source": [
    "# Task procedures"
   ]
  },
  {
   "cell_type": "code",
   "execution_count": null,
   "id": "0be043e1-5578-465b-9f11-d6537fb22544",
   "metadata": {},
   "outputs": [],
   "source": [
    "# 2. Checking df_ords dataframe for inconsistencies\n",
    "df_ords.describe()"
   ]
  },
  {
   "cell_type": "markdown",
   "id": "09961631-6924-460b-8795-0f4d9e73505f",
   "metadata": {},
   "source": [
    "#### In comparison to other columns, the column 'days_since_prior_order' exhibits a lower count, indicating the presence of missing values. No further discrepancies have been identified."
   ]
  },
  {
   "cell_type": "code",
   "execution_count": null,
   "id": "467b08db-5cc6-463c-8262-64e673789e6e",
   "metadata": {},
   "outputs": [],
   "source": [
    "# 3. Check for mixed-type data in df_ords dataframe\n",
    "for col in df_ords.columns.tolist():\n",
    "  weird = (df_ords[[col]].map(type) != df_ords[[col]].iloc[0].apply(type)).any(axis = 1)\n",
    "  if len (df_ords[weird]) > 0:\n",
    "    print (col)\n",
    "else :\n",
    "    print (\"None of the columns have mix data\")"
   ]
  },
  {
   "cell_type": "code",
   "execution_count": null,
   "id": "69ba9dc2-0cd7-48a6-afed-4e1fa50193cb",
   "metadata": {},
   "outputs": [],
   "source": [
    "# 5. Run a check for missing values in your df_ords dataframe.\n",
    "df_ords.isnull().sum()"
   ]
  },
  {
   "cell_type": "markdown",
   "id": "2da54a8c-8b49-4c5f-8c1e-c0bd44939c35",
   "metadata": {},
   "source": [
    "#### With 206,209 observations featuring missing values, a significant portion of the data is affected. Removing or filling in these missing values might distort the analysis.These instances likely indicate the first orders for each user, where it's understandable for the days_since_prior_order column to be empty.So the frequency of missing values should be same as the frquency of the first order.\n"
   ]
  },
  {
   "cell_type": "code",
   "execution_count": null,
   "id": "ac01eb33-7cd4-42af-ada3-7b00213c587b",
   "metadata": {},
   "outputs": [],
   "source": [
    "# Create a subset containing only missing values\n",
    "df_nan = df_ords[df_ords['days_since_prior_order'].isnull() == True]"
   ]
  },
  {
   "cell_type": "code",
   "execution_count": null,
   "id": "213789bd-2ec9-4d59-89fb-fd322eae66da",
   "metadata": {
    "scrolled": true
   },
   "outputs": [],
   "source": [
    "df_nan"
   ]
  },
  {
   "cell_type": "code",
   "execution_count": null,
   "id": "f8ec037b-b4c0-4a3c-b21a-2a4ac0cc49a0",
   "metadata": {
    "scrolled": true
   },
   "outputs": [],
   "source": [
    "# Check the frequency of order_number=1 in df_nan\n",
    "df_nan['order_number'].value_counts()"
   ]
  },
  {
   "cell_type": "code",
   "execution_count": null,
   "id": "7549943b-9a10-48e1-baed-40fc90bee2d7",
   "metadata": {
    "scrolled": true
   },
   "outputs": [],
   "source": [
    "# Check the frequency of order_number=1 in df_ords\n",
    "df_ords['order_number'].value_counts()"
   ]
  },
  {
   "cell_type": "markdown",
   "id": "a2b7205b-27fb-4c51-a790-761c019f4256",
   "metadata": {},
   "source": [
    "#### The frequency of missing values and first order are same."
   ]
  },
  {
   "cell_type": "markdown",
   "id": "ca7aac96-3531-4f0c-8d88-575c0a21cd91",
   "metadata": {},
   "source": [
    "### With 206209 observations containing missing values, it's crucial to retain them in the DataFrame df_ords_missing_values. Null values are present in all instances where order_number=1 for each user, likely representing their initial orders, making it logical to lack values in the days_since_prior_order column. Since each of the 206209 users will have one NaN value for their first order, it's prudent to refrain from altering these missing values to ensure accurate analysis."
   ]
  },
  {
   "cell_type": "code",
   "execution_count": null,
   "id": "ce0541db-6a05-4fc3-97ea-a6acdbf4cd7a",
   "metadata": {},
   "outputs": [],
   "source": [
    "# df_ords dataframe has 3421083 observations including null values in days_since_prior_order \n",
    "df_ords.shape"
   ]
  },
  {
   "cell_type": "code",
   "execution_count": null,
   "id": "274a2fae-9329-45e4-9b02-e4fdb13b2f71",
   "metadata": {},
   "outputs": [],
   "source": [
    "## extract all the missing value observations to a new dataframe\n",
    "df_orods_clean = df_ords[df_ords['days_since_prior_order'].isnull() == False]"
   ]
  },
  {
   "cell_type": "code",
   "execution_count": null,
   "id": "9fade01d-242d-4c58-90bc-ba5dd63fa01d",
   "metadata": {},
   "outputs": [],
   "source": [
    "df_orods_clean"
   ]
  },
  {
   "cell_type": "code",
   "execution_count": null,
   "id": "93eaa61b-b501-42c7-a615-7534d4a18689",
   "metadata": {},
   "outputs": [],
   "source": [
    "df_orods_clean.shape"
   ]
  },
  {
   "cell_type": "code",
   "execution_count": null,
   "id": "11a4022e-b8e5-4e89-82cc-26eb4d0e5128",
   "metadata": {},
   "outputs": [],
   "source": [
    "# 7. Run a check for duplicate values in df_ords dataframe\n",
    "df_ords_duplicates=df_ords[df_ords.duplicated()]"
   ]
  },
  {
   "cell_type": "code",
   "execution_count": null,
   "id": "b8f5bbf4-7e60-4df7-b382-ba3996a263ea",
   "metadata": {},
   "outputs": [],
   "source": [
    "df_ords_duplicates"
   ]
  },
  {
   "cell_type": "markdown",
   "id": "4bb1e01e-4fea-4b8c-a161-44c1457cd318",
   "metadata": {},
   "source": [
    "### No duplicated found."
   ]
  },
  {
   "cell_type": "markdown",
   "id": "94e88e0e-e990-42c0-8679-422d41241edd",
   "metadata": {},
   "source": [
    "# 04 Exporting Dataframes"
   ]
  },
  {
   "cell_type": "code",
   "execution_count": null,
   "id": "8a38fbd9-7211-46e1-8e23-4cf27bb63361",
   "metadata": {},
   "outputs": [],
   "source": [
    "# Exporting df_prods_clean_no_dups dataframe as \"products_checked.csv\"\n",
    "df_prods_clean_no_dups.to_csv(os.path.join(path, '02 Data', 'Prepared Data', 'products_checked.csv'))"
   ]
  },
  {
   "cell_type": "code",
   "execution_count": null,
   "id": "f4a99994-d095-4689-8706-362f5bb46800",
   "metadata": {},
   "outputs": [],
   "source": [
    "# Exporting df_ords dataframe as \"orders_checked.csv\"\n",
    "df_ords.to_csv(os.path.join(path, '02 Data', 'Prepared Data', 'orders_checked.csv'))"
   ]
  }
 ],
 "metadata": {
  "kernelspec": {
   "display_name": "Python 3 (ipykernel)",
   "language": "python",
   "name": "python3"
  },
  "language_info": {
   "codemirror_mode": {
    "name": "ipython",
    "version": 3
   },
   "file_extension": ".py",
   "mimetype": "text/x-python",
   "name": "python",
   "nbconvert_exporter": "python",
   "pygments_lexer": "ipython3",
   "version": "3.11.7"
  }
 },
 "nbformat": 4,
 "nbformat_minor": 5
}
