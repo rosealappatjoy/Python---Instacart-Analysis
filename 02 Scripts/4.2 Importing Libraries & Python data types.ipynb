{
 "cells": [
  {
   "cell_type": "markdown",
   "id": "1afd7fe4-b308-4736-b383-cba3c505f9c9",
   "metadata": {},
   "source": [
    "# 01 importing libraries"
   ]
  },
  {
   "cell_type": "code",
   "execution_count": 1,
   "id": "d70d713a-5dc2-490c-9e2e-ccda0435ce47",
   "metadata": {},
   "outputs": [],
   "source": [
    "# Import Libraries\n",
    "import pandas as pd\n",
    "import numpy as np\n",
    "import os"
   ]
  },
  {
   "cell_type": "markdown",
   "id": "075024df-52c4-4c49-a10a-0db0c9d5f96d",
   "metadata": {},
   "source": [
    "# 02 Data types"
   ]
  },
  {
   "cell_type": "code",
   "execution_count": 2,
   "id": "d664af4b-5ed9-487e-bdc3-d34918361080",
   "metadata": {},
   "outputs": [
    {
     "data": {
      "text/plain": [
       "100"
      ]
     },
     "execution_count": 2,
     "metadata": {},
     "output_type": "execute_result"
    }
   ],
   "source": [
    "# Code 3 different ways of reaching a result of 100 by adding or subtracting numeric variables\n",
    "x = 90\n",
    "y = 10\n",
    "z = 110\n",
    "x + y"
   ]
  },
  {
   "cell_type": "code",
   "execution_count": 3,
   "id": "758d54ce-5bcb-4fba-a847-54dd22ca109a",
   "metadata": {},
   "outputs": [
    {
     "data": {
      "text/plain": [
       "100"
      ]
     },
     "execution_count": 3,
     "metadata": {},
     "output_type": "execute_result"
    }
   ],
   "source": [
    "z - y"
   ]
  },
  {
   "cell_type": "code",
   "execution_count": 5,
   "id": "9474416d-33c0-4633-b9f2-55aa5b76637b",
   "metadata": {},
   "outputs": [
    {
     "data": {
      "text/plain": [
       "100"
      ]
     },
     "execution_count": 5,
     "metadata": {},
     "output_type": "execute_result"
    }
   ],
   "source": [
    "2 * z -( x + (3 * y))"
   ]
  },
  {
   "cell_type": "code",
   "execution_count": 6,
   "id": "e66779e0-e9d2-44de-abf9-3ff82badd2dd",
   "metadata": {},
   "outputs": [
    {
     "data": {
      "text/plain": [
       "4.290894439967768"
      ]
     },
     "execution_count": 6,
     "metadata": {},
     "output_type": "execute_result"
    }
   ],
   "source": [
    "# code 2 floating variables &divide them by each other\n",
    "x = 5.325\n",
    "y = 1.241\n",
    "x / y"
   ]
  },
  {
   "cell_type": "code",
   "execution_count": 7,
   "id": "ce860b9c-13ff-42f7-9550-3f628b89e422",
   "metadata": {},
   "outputs": [
    {
     "data": {
      "text/plain": [
       "'Database'"
      ]
     },
     "execution_count": 7,
     "metadata": {},
     "output_type": "execute_result"
    }
   ],
   "source": [
    "# construct a short word made of seperate strings\n",
    "a = 'Data'\n",
    "b = 'base'\n",
    "a + b"
   ]
  },
  {
   "cell_type": "code",
   "execution_count": 8,
   "id": "f07c68ad-991b-4fab-a634-3a9db96a300b",
   "metadata": {},
   "outputs": [
    {
     "data": {
      "text/plain": [
       "'Hi everyone,welcome to the presentation'"
      ]
     },
     "execution_count": 8,
     "metadata": {},
     "output_type": "execute_result"
    }
   ],
   "source": [
    "# construct a2short sentences made of seperate strings\n",
    "a = 'Hi everyone,'\n",
    "b = 'welcome to the presentation'\n",
    "a + b"
   ]
  },
  {
   "cell_type": "code",
   "execution_count": 9,
   "id": "0f3bc2d6-135d-4c22-a133-a806dc9d63b4",
   "metadata": {},
   "outputs": [
    {
     "data": {
      "text/plain": [
       "'DataDataDataDataDataDataDataDataDataDataDataDataDataDataDataDataDataDataDataDataDataDataDataDataDataDataDataDataDataDataDataDataDataDataDataDataDataDataDataDataDataDataDataDataDataDataDataDataDataDataDataDataDataDataDataDataDataDataDataDataDataDataDataDataDataDataDataDataDataDataDataDataDataDataDataDataDataDataDataDataDataDataDataDataDataDataDataDataDataDataDataDataDataDataDataDataDataDataDataData'"
      ]
     },
     "execution_count": 9,
     "metadata": {},
     "output_type": "execute_result"
    }
   ],
   "source": [
    "# Include a command that makes a string 100 times\n",
    "a = 'Data'\n",
    "a * 100"
   ]
  },
  {
   "cell_type": "code",
   "execution_count": null,
   "id": "8a8ed05b-2321-4a64-8ae5-0ff50d28e8b6",
   "metadata": {},
   "outputs": [],
   "source": []
  }
 ],
 "metadata": {
  "kernelspec": {
   "display_name": "Python 3 (ipykernel)",
   "language": "python",
   "name": "python3"
  },
  "language_info": {
   "codemirror_mode": {
    "name": "ipython",
    "version": 3
   },
   "file_extension": ".py",
   "mimetype": "text/x-python",
   "name": "python",
   "nbconvert_exporter": "python",
   "pygments_lexer": "ipython3",
   "version": "3.11.7"
  }
 },
 "nbformat": 4,
 "nbformat_minor": 5
}
