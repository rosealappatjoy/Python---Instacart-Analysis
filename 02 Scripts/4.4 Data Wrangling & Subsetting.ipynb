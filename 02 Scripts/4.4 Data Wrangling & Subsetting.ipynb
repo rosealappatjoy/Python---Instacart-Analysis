{
 "cells": [
  {
   "cell_type": "markdown",
   "id": "3fd4c5c1-128d-4133-baca-e81463fac29c",
   "metadata": {},
   "source": [
    "# 01 Importing Libraries"
   ]
  },
  {
   "cell_type": "code",
   "execution_count": null,
   "id": "22892355-3562-4e65-9887-c6454d8fa349",
   "metadata": {},
   "outputs": [],
   "source": [
    "# Import Libraries\n",
    "import pandas as pd\n",
    "import numpy as np\n",
    "import os"
   ]
  },
  {
   "cell_type": "markdown",
   "id": "6e934948-3bfc-4758-8348-1c35ae45d8d7",
   "metadata": {},
   "source": [
    "# 02 Importing Data"
   ]
  },
  {
   "cell_type": "code",
   "execution_count": null,
   "id": "97d10f13-c3ea-46b0-82ea-538ced477987",
   "metadata": {
    "scrolled": true
   },
   "outputs": [],
   "source": [
    "# Telling Python to remember a main folder path\n",
    "path = r'C:/Users/Dell/Documents/Instacart Basket Analysis'\n",
    "path"
   ]
  },
  {
   "cell_type": "code",
   "execution_count": null,
   "id": "b8409830-5cfc-465b-a3c7-b682a65c7508",
   "metadata": {},
   "outputs": [],
   "source": [
    "# Importing dataset products.csv\n",
    "df_prods = pd.read_csv(os.path.join(path, '02 Data', 'Original Data', 'products.csv'), index_col = False)"
   ]
  },
  {
   "cell_type": "code",
   "execution_count": null,
   "id": "3a216e30-0ab7-40f5-80d8-1e8a32429580",
   "metadata": {},
   "outputs": [],
   "source": [
    "# Importing dataset orders.csv\n",
    "df_ords = pd.read_csv(os.path.join(path, '02 Data', 'Original Data', 'orders.csv'), index_col = False)"
   ]
  },
  {
   "cell_type": "code",
   "execution_count": null,
   "id": "ea3d242d-c77f-4770-89e3-ec28c67194b7",
   "metadata": {},
   "outputs": [],
   "source": [
    "# Importing dataset department .csv\n",
    "df_dep = pd.read_csv(os.path.join(path, '02 Data', 'Original Data', 'departments.csv'), index_col = False)"
   ]
  },
  {
   "cell_type": "code",
   "execution_count": null,
   "id": "4c98a815-48e9-43b7-8fa6-7c2a32093575",
   "metadata": {},
   "outputs": [],
   "source": [
    "# Taking a glance at dataset departments.csv\n",
    "df_dep.head()"
   ]
  },
  {
   "cell_type": "markdown",
   "id": "5ea90d39-0ac6-4c6a-abee-cd5a95595abf",
   "metadata": {},
   "source": [
    "# 03 Data Wrangling\n",
    "Dropping columns"
   ]
  },
  {
   "cell_type": "code",
   "execution_count": null,
   "id": "03481711-4f7a-4f0f-92ff-51068be14cb3",
   "metadata": {},
   "outputs": [],
   "source": [
    "# Dropping the \"eval_set\" column from the orders dataframe\n",
    "df_ords.drop(columns = ['eval_set'])"
   ]
  },
  {
   "cell_type": "code",
   "execution_count": null,
   "id": "8e2c2731-e721-4caa-9258-5363b2d97edd",
   "metadata": {},
   "outputs": [],
   "source": [
    "# Overwriting the dataframe\n",
    "df_ords = df_ords.drop(columns = ['eval_set'])"
   ]
  },
  {
   "cell_type": "code",
   "execution_count": null,
   "id": "148f2c7b-4703-4647-8a98-7c0827c56eb9",
   "metadata": {},
   "outputs": [],
   "source": [
    "# Looking for missing values (NaN) in a specific column\n",
    "df_ords['days_since_prior_order'].value_counts(dropna = False)"
   ]
  },
  {
   "cell_type": "markdown",
   "id": "6bcd96f9-1fc4-4e54-baa7-6f0f28b7bdb8",
   "metadata": {},
   "source": [
    "# 04 Renaming columns"
   ]
  },
  {
   "cell_type": "code",
   "execution_count": null,
   "id": "65044967-97ec-4010-a4e1-61782cd13997",
   "metadata": {},
   "outputs": [],
   "source": [
    "# Renaming order_dow column\n",
    "df_ords.rename(columns ={ 'order_dow' : 'orders_day_of_week'}, inplace = True)"
   ]
  },
  {
   "cell_type": "code",
   "execution_count": null,
   "id": "0a04d65c-44a4-4706-8b9d-26607dd3f2e6",
   "metadata": {},
   "outputs": [],
   "source": [
    "df_ords.head()"
   ]
  },
  {
   "cell_type": "markdown",
   "id": "1ef8f12b-de37-4d55-a071-9cb9e278daa3",
   "metadata": {},
   "source": [
    "# 05 Changing a variable's data type"
   ]
  },
  {
   "cell_type": "code",
   "execution_count": null,
   "id": "8bbb0304-bb4e-42bd-8b54-b636f426dd00",
   "metadata": {},
   "outputs": [],
   "source": [
    "# Changing data type of the column \"order_id\" from \"orders.csv\"\n",
    "df_ords['order_id'] = df_ords['order_id'].astype('str')"
   ]
  },
  {
   "cell_type": "code",
   "execution_count": null,
   "id": "0ca5fe57-2f94-4d43-bacc-93616f80a30d",
   "metadata": {},
   "outputs": [],
   "source": [
    "# checking the function\n",
    "df_ords['order_id'].dtype"
   ]
  },
  {
   "cell_type": "markdown",
   "id": "9bb80ca9-29e4-438c-a8c1-d673e77dbde6",
   "metadata": {},
   "source": [
    "# 06 Transposing Data"
   ]
  },
  {
   "cell_type": "code",
   "execution_count": null,
   "id": "4bc69a90-da48-4aae-a091-f3a117510494",
   "metadata": {},
   "outputs": [],
   "source": [
    "# Transposing df_dep.T\n",
    "df_dep.T"
   ]
  },
  {
   "cell_type": "code",
   "execution_count": null,
   "id": "b93da479-3314-4846-8e9a-50390ea5374f",
   "metadata": {},
   "outputs": [],
   "source": [
    "# New data frame\n",
    "df_dep_t = df_dep.T"
   ]
  },
  {
   "cell_type": "code",
   "execution_count": null,
   "id": "26ac8988-5239-4c1e-bda0-b9731d9952a4",
   "metadata": {},
   "outputs": [],
   "source": [
    "# Creating an index\n",
    "df_dep_t.reset_index()"
   ]
  },
  {
   "cell_type": "code",
   "execution_count": null,
   "id": "028f0ba0-9ea3-482a-9f40-095a1c90dd87",
   "metadata": {},
   "outputs": [],
   "source": [
    "# Taking the first row of df_dep for the header\n",
    "new_header = df_dep_t.iloc[0]"
   ]
  },
  {
   "cell_type": "code",
   "execution_count": null,
   "id": "e1e33822-52c5-46c9-8b86-623549d17ac6",
   "metadata": {},
   "outputs": [],
   "source": [
    "new_header"
   ]
  },
  {
   "cell_type": "code",
   "execution_count": null,
   "id": "fa0c9175-c600-4d16-8c46-7b890f70740e",
   "metadata": {},
   "outputs": [],
   "source": [
    "# Taking the data under the header row for a new df\n",
    "df_dep_t_new = df_dep_t[1:]"
   ]
  },
  {
   "cell_type": "code",
   "execution_count": null,
   "id": "73ed3417-3a46-40d3-a9d5-a633e033aecc",
   "metadata": {},
   "outputs": [],
   "source": [
    "df_dep_t_new"
   ]
  },
  {
   "cell_type": "code",
   "execution_count": null,
   "id": "067ad848-9c55-4336-8ce3-6eda9a163c2c",
   "metadata": {},
   "outputs": [],
   "source": [
    "# Setting the new variable as the new header for new df\n",
    "df_dep_t_new.columns = new_header"
   ]
  },
  {
   "cell_type": "code",
   "execution_count": null,
   "id": "9b4d4b65-dc62-4ed9-8a1c-29e44775ba4a",
   "metadata": {},
   "outputs": [],
   "source": [
    "df_dep_t_new"
   ]
  },
  {
   "cell_type": "markdown",
   "id": "eb3c9276-ec3b-48c0-975b-2413cdaa8421",
   "metadata": {},
   "source": [
    "#  07 Creating Data Dictionaries"
   ]
  },
  {
   "cell_type": "code",
   "execution_count": null,
   "id": "15322c5a-b7ab-43a1-8128-c4405f4b1cd3",
   "metadata": {},
   "outputs": [],
   "source": [
    "# Creating a data dictionary that contains meanings for the values in the \"department_id\" column\n",
    "data_dict = df_dep_t_new.to_dict('index')"
   ]
  },
  {
   "cell_type": "code",
   "execution_count": null,
   "id": "4c4e9457-31fd-43c1-9861-62d096524f5e",
   "metadata": {},
   "outputs": [],
   "source": [
    "data_dict"
   ]
  },
  {
   "cell_type": "code",
   "execution_count": null,
   "id": "99c06fb3-3083-4eea-a6a5-d134ec32ad4e",
   "metadata": {},
   "outputs": [],
   "source": [
    "df_prods.head()"
   ]
  },
  {
   "cell_type": "code",
   "execution_count": null,
   "id": "ce0da2f2-37d5-4ae0-8400-2b27353ecfdc",
   "metadata": {},
   "outputs": [],
   "source": [
    "# To get the department of id '19'\n",
    "print(data_dict.get('19'))"
   ]
  },
  {
   "cell_type": "code",
   "execution_count": null,
   "id": "40ff1192-16e5-4d04-9ed6-df6e2b3346f6",
   "metadata": {},
   "outputs": [],
   "source": [
    "# creating a subset for dataframe df_prods\n",
    "df_snacks = df_prods [df_prods['department_id']==19 ]"
   ]
  },
  {
   "cell_type": "code",
   "execution_count": null,
   "id": "c98c6729-685a-4a10-8d68-b237bdbef9e1",
   "metadata": {
    "scrolled": true
   },
   "outputs": [],
   "source": [
    "df_snacks.head()"
   ]
  },
  {
   "cell_type": "markdown",
   "id": "e63c8121-0cac-4b1d-b609-37c3a2f78dd0",
   "metadata": {},
   "source": [
    "# The procedures"
   ]
  },
  {
   "cell_type": "code",
   "execution_count": null,
   "id": "430d545f-5b37-4a2f-b8a9-198693175652",
   "metadata": {},
   "outputs": [],
   "source": [
    "# 2.Find another identifier variable in the df_ords dataframe that doesn’t need to be included in your analysis as a numeric variable and change it to a suitable format\n",
    "df_ords['user_id'] = df_ords['user_id'].astype('str')"
   ]
  },
  {
   "cell_type": "code",
   "execution_count": null,
   "id": "6ffae907-869c-4148-b7bd-1d19e92b429a",
   "metadata": {},
   "outputs": [],
   "source": [
    "df_ords['user_id'].dtype"
   ]
  },
  {
   "cell_type": "code",
   "execution_count": null,
   "id": "fe30f99d-06bd-4748-b9fa-980fa19071e2",
   "metadata": {},
   "outputs": [],
   "source": [
    "# 3.Look for a variable in your df_ords dataframe with an unintuitive name and change its name without overwriting the dataframe\n",
    "df_ords.head()"
   ]
  },
  {
   "cell_type": "code",
   "execution_count": null,
   "id": "8d95542f-e169-41c7-a376-226d736de05e",
   "metadata": {},
   "outputs": [],
   "source": [
    "df_ords.rename(columns = {'order_number' : 'order_progression_number'}, inplace = False)"
   ]
  },
  {
   "cell_type": "code",
   "execution_count": null,
   "id": "42424dd8-41d2-4543-9b0b-5dbef96db462",
   "metadata": {},
   "outputs": [],
   "source": [
    "# 4.Your client wants to know what the busiest hour is for placing orders. Find the frequency of the corresponding variable and share your findings\n",
    "df_ords['order_hour_of_day'].value_counts()"
   ]
  },
  {
   "cell_type": "markdown",
   "id": "1338d6f5-9865-451a-b54f-af479c0611db",
   "metadata": {},
   "source": [
    "# The busiest hour for placing order is 10."
   ]
  },
  {
   "cell_type": "code",
   "execution_count": null,
   "id": "611a708b-0488-4332-bcb6-5c5de5660161",
   "metadata": {},
   "outputs": [],
   "source": [
    "# 5.Determine the meaning behind a value of 4 in the \"department_id\" column within the df_prods dataframe using a data dictionary\n",
    "df_prods.head()"
   ]
  },
  {
   "cell_type": "code",
   "execution_count": null,
   "id": "802fae8b-dd5d-4e12-af8d-3dfdb14bdba4",
   "metadata": {},
   "outputs": [],
   "source": [
    "print(data_dict.get('4'))"
   ]
  },
  {
   "cell_type": "code",
   "execution_count": null,
   "id": "cc6b53f8-4c33-4bf1-bd06-b4f4d745c97b",
   "metadata": {},
   "outputs": [],
   "source": [
    "# 6. The sales team in your client’s organization wants to know more about breakfast item sales. Create a subset containing only the required information\n",
    "data_dict"
   ]
  },
  {
   "cell_type": "code",
   "execution_count": null,
   "id": "87b78329-9cb9-42eb-ab96-d6ebea50a971",
   "metadata": {},
   "outputs": [],
   "source": [
    "# Breakfast belongs to department_id '14'.\n",
    "df_breakfast = df_prods[ df_prods['department_id']== 14]"
   ]
  },
  {
   "cell_type": "code",
   "execution_count": null,
   "id": "903fe2a4-f4e4-4f9c-956e-3d48cb16c1d1",
   "metadata": {},
   "outputs": [],
   "source": [
    "df_breakfast.head()"
   ]
  },
  {
   "cell_type": "code",
   "execution_count": null,
   "id": "b6ac8690-7683-40eb-b433-2225b55f5f31",
   "metadata": {},
   "outputs": [],
   "source": [
    "# 7.Find all observations from the entire dataframe that include items from the following departments: alcohol, deli, beverages, and meat/seafood\n",
    "data_dict"
   ]
  },
  {
   "cell_type": "code",
   "execution_count": null,
   "id": "24d53541-16b7-4588-b86b-85fdaf589d19",
   "metadata": {},
   "outputs": [],
   "source": [
    "# Creating a subset containing the required info\n",
    "df_dinner_parties = df_prods[df_prods['department_id'].isin([5,7,12,20])]"
   ]
  },
  {
   "cell_type": "code",
   "execution_count": null,
   "id": "01c427c8-2b74-4071-b3d1-35b11dbb0ed9",
   "metadata": {},
   "outputs": [],
   "source": [
    "df_dinner_parties.head()"
   ]
  },
  {
   "cell_type": "code",
   "execution_count": null,
   "id": "a7d46186-6754-42de-aac5-bd95f89e366c",
   "metadata": {},
   "outputs": [],
   "source": [
    "# 8. How many rows does the last dataframe you created have?\n",
    "df_dinner_parties.shape"
   ]
  },
  {
   "cell_type": "markdown",
   "id": "7e69778e-0bb2-4693-8b01-1940cb4bd57c",
   "metadata": {},
   "source": [
    "# The data frame created has 7650 rows"
   ]
  },
  {
   "cell_type": "code",
   "execution_count": null,
   "id": "3ee103c5-4c99-4e9d-afbb-d81e0bde25cc",
   "metadata": {},
   "outputs": [],
   "source": [
    "# 9. Extract all the information the user with 'user_id' = 1\n",
    "df_customer_1 = df_ords[df_ords['user_id']=='1']"
   ]
  },
  {
   "cell_type": "code",
   "execution_count": null,
   "id": "a2355029-e629-42ec-93b6-2e1ae2bdedf7",
   "metadata": {},
   "outputs": [],
   "source": [
    "df_customer_1.head()"
   ]
  },
  {
   "cell_type": "code",
   "execution_count": null,
   "id": "0264d50e-36d3-4316-9ae5-11a93a3fb6de",
   "metadata": {},
   "outputs": [],
   "source": [
    "df_customer_1.tail()"
   ]
  },
  {
   "cell_type": "code",
   "execution_count": null,
   "id": "e5fa4ff1-0072-4538-b4b9-33d43018be66",
   "metadata": {},
   "outputs": [],
   "source": [
    "#10. You also need to provide some details about this user’s behavior. What basic stats can you provide based on the information you have?\n",
    "df_customer_1.describe()"
   ]
  },
  {
   "cell_type": "markdown",
   "id": "6a6c8fb7-95fc-48f3-8336-911ac304963e",
   "metadata": {},
   "source": [
    "# 08. Exporting Dataframes"
   ]
  },
  {
   "cell_type": "code",
   "execution_count": null,
   "id": "96f83a29-42f6-4ed7-b320-28252af85d8b",
   "metadata": {},
   "outputs": [],
   "source": [
    "# Exporting the df_ords dataframe as “orders_wrangled.csv”\n",
    "df_ords.to_csv(os.path.join(path, '02 Data', 'Prepared Data', 'orders_wrangled.csv'))"
   ]
  },
  {
   "cell_type": "code",
   "execution_count": null,
   "id": "b5492ea0-d9db-442a-a28f-94a4fd43e11f",
   "metadata": {},
   "outputs": [],
   "source": [
    "# Exporting the df_dep_t_new dataframe as “departments_wrangled.csv”\n",
    "df_dep_t_new.to_csv(os.path.join(path, '02 Data', 'Prepared Data', 'departments_wrangled.csv'))"
   ]
  },
  {
   "cell_type": "code",
   "execution_count": null,
   "id": "a9e3baa9-1075-4307-9d7e-de81e96cb5b5",
   "metadata": {},
   "outputs": [],
   "source": []
  }
 ],
 "metadata": {
  "kernelspec": {
   "display_name": "Python 3 (ipykernel)",
   "language": "python",
   "name": "python3"
  },
  "language_info": {
   "codemirror_mode": {
    "name": "ipython",
    "version": 3
   },
   "file_extension": ".py",
   "mimetype": "text/x-python",
   "name": "python",
   "nbconvert_exporter": "python",
   "pygments_lexer": "ipython3",
   "version": "3.11.7"
  }
 },
 "nbformat": 4,
 "nbformat_minor": 5
}
