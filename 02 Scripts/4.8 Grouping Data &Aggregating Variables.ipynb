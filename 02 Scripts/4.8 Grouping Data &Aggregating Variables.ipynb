{
 "cells": [
  {
   "cell_type": "markdown",
   "id": "f4722a7f-eeec-43a7-ac7e-255da22c011a",
   "metadata": {},
   "source": [
    "## 01. Importing Libraries & Data"
   ]
  },
  {
   "cell_type": "code",
   "execution_count": 1,
   "id": "18df064f-8ab3-4334-ade6-47758853f871",
   "metadata": {},
   "outputs": [],
   "source": [
    "# Import Libraries\n",
    "import pandas as pd\n",
    "import numpy as np\n",
    "import os"
   ]
  },
  {
   "cell_type": "code",
   "execution_count": 3,
   "id": "2fe714c9-895f-431d-a321-5d523b265238",
   "metadata": {},
   "outputs": [],
   "source": [
    "# Import data set\n",
    "ords_prods_merge = pd.read_pickle(os.path.join(path, '02 Data', 'Prepared Data', 'orders_products_merged_derived.pkl'))"
   ]
  },
  {
   "cell_type": "code",
   "execution_count": 2,
   "id": "016de301-aa2c-4c5d-9bf7-808b6582c715",
   "metadata": {},
   "outputs": [],
   "source": [
    "# Create Path\n",
    "path = r'C:\\Users\\Dell\\Documents\\Instacart Basket Analysis'"
   ]
  },
  {
   "cell_type": "code",
   "execution_count": 4,
   "id": "917be1ba-d875-4c9f-b0dc-8ba9222cc74e",
   "metadata": {},
   "outputs": [
    {
     "data": {
      "text/html": [
       "<div>\n",
       "<style scoped>\n",
       "    .dataframe tbody tr th:only-of-type {\n",
       "        vertical-align: middle;\n",
       "    }\n",
       "\n",
       "    .dataframe tbody tr th {\n",
       "        vertical-align: top;\n",
       "    }\n",
       "\n",
       "    .dataframe thead th {\n",
       "        text-align: right;\n",
       "    }\n",
       "</style>\n",
       "<table border=\"1\" class=\"dataframe\">\n",
       "  <thead>\n",
       "    <tr style=\"text-align: right;\">\n",
       "      <th></th>\n",
       "      <th>product_id</th>\n",
       "      <th>product_name</th>\n",
       "      <th>department_id</th>\n",
       "      <th>prices</th>\n",
       "      <th>order_id</th>\n",
       "      <th>user_id</th>\n",
       "      <th>order_number</th>\n",
       "      <th>orders_day_of_week</th>\n",
       "      <th>order_hour_of_day</th>\n",
       "      <th>days_since_prior_order</th>\n",
       "      <th>add_to_cart_order</th>\n",
       "      <th>reordered</th>\n",
       "      <th>_merge</th>\n",
       "      <th>price_range_loc</th>\n",
       "      <th>busiest_day</th>\n",
       "      <th>busiest_days</th>\n",
       "      <th>busiest_period_of_day</th>\n",
       "    </tr>\n",
       "  </thead>\n",
       "  <tbody>\n",
       "    <tr>\n",
       "      <th>0</th>\n",
       "      <td>1</td>\n",
       "      <td>Chocolate Sandwich Cookies</td>\n",
       "      <td>19</td>\n",
       "      <td>5.8</td>\n",
       "      <td>3139998</td>\n",
       "      <td>138</td>\n",
       "      <td>28</td>\n",
       "      <td>6</td>\n",
       "      <td>11</td>\n",
       "      <td>3.0</td>\n",
       "      <td>5</td>\n",
       "      <td>0</td>\n",
       "      <td>both</td>\n",
       "      <td>Mid-range product</td>\n",
       "      <td>Regularly busy</td>\n",
       "      <td>Regularly busy</td>\n",
       "      <td>Most orders</td>\n",
       "    </tr>\n",
       "    <tr>\n",
       "      <th>1</th>\n",
       "      <td>1</td>\n",
       "      <td>Chocolate Sandwich Cookies</td>\n",
       "      <td>19</td>\n",
       "      <td>5.8</td>\n",
       "      <td>1977647</td>\n",
       "      <td>138</td>\n",
       "      <td>30</td>\n",
       "      <td>6</td>\n",
       "      <td>17</td>\n",
       "      <td>20.0</td>\n",
       "      <td>1</td>\n",
       "      <td>1</td>\n",
       "      <td>both</td>\n",
       "      <td>Mid-range product</td>\n",
       "      <td>Regularly busy</td>\n",
       "      <td>Regularly busy</td>\n",
       "      <td>Average orders</td>\n",
       "    </tr>\n",
       "    <tr>\n",
       "      <th>2</th>\n",
       "      <td>1</td>\n",
       "      <td>Chocolate Sandwich Cookies</td>\n",
       "      <td>19</td>\n",
       "      <td>5.8</td>\n",
       "      <td>389851</td>\n",
       "      <td>709</td>\n",
       "      <td>2</td>\n",
       "      <td>0</td>\n",
       "      <td>21</td>\n",
       "      <td>6.0</td>\n",
       "      <td>20</td>\n",
       "      <td>0</td>\n",
       "      <td>both</td>\n",
       "      <td>Mid-range product</td>\n",
       "      <td>Busiest day</td>\n",
       "      <td>Busiest days</td>\n",
       "      <td>Average orders</td>\n",
       "    </tr>\n",
       "    <tr>\n",
       "      <th>3</th>\n",
       "      <td>1</td>\n",
       "      <td>Chocolate Sandwich Cookies</td>\n",
       "      <td>19</td>\n",
       "      <td>5.8</td>\n",
       "      <td>652770</td>\n",
       "      <td>764</td>\n",
       "      <td>1</td>\n",
       "      <td>3</td>\n",
       "      <td>13</td>\n",
       "      <td>NaN</td>\n",
       "      <td>10</td>\n",
       "      <td>0</td>\n",
       "      <td>both</td>\n",
       "      <td>Mid-range product</td>\n",
       "      <td>Regularly busy</td>\n",
       "      <td>Slowest days</td>\n",
       "      <td>Most orders</td>\n",
       "    </tr>\n",
       "    <tr>\n",
       "      <th>4</th>\n",
       "      <td>1</td>\n",
       "      <td>Chocolate Sandwich Cookies</td>\n",
       "      <td>19</td>\n",
       "      <td>5.8</td>\n",
       "      <td>1813452</td>\n",
       "      <td>764</td>\n",
       "      <td>3</td>\n",
       "      <td>4</td>\n",
       "      <td>17</td>\n",
       "      <td>9.0</td>\n",
       "      <td>11</td>\n",
       "      <td>1</td>\n",
       "      <td>both</td>\n",
       "      <td>Mid-range product</td>\n",
       "      <td>Least busy</td>\n",
       "      <td>Slowest days</td>\n",
       "      <td>Average orders</td>\n",
       "    </tr>\n",
       "    <tr>\n",
       "      <th>...</th>\n",
       "      <td>...</td>\n",
       "      <td>...</td>\n",
       "      <td>...</td>\n",
       "      <td>...</td>\n",
       "      <td>...</td>\n",
       "      <td>...</td>\n",
       "      <td>...</td>\n",
       "      <td>...</td>\n",
       "      <td>...</td>\n",
       "      <td>...</td>\n",
       "      <td>...</td>\n",
       "      <td>...</td>\n",
       "      <td>...</td>\n",
       "      <td>...</td>\n",
       "      <td>...</td>\n",
       "      <td>...</td>\n",
       "      <td>...</td>\n",
       "    </tr>\n",
       "    <tr>\n",
       "      <th>32404854</th>\n",
       "      <td>49688</td>\n",
       "      <td>Fresh Foaming Cleanser</td>\n",
       "      <td>11</td>\n",
       "      <td>13.5</td>\n",
       "      <td>1788356</td>\n",
       "      <td>200215</td>\n",
       "      <td>2</td>\n",
       "      <td>0</td>\n",
       "      <td>9</td>\n",
       "      <td>5.0</td>\n",
       "      <td>27</td>\n",
       "      <td>0</td>\n",
       "      <td>both</td>\n",
       "      <td>Mid-range product</td>\n",
       "      <td>Busiest day</td>\n",
       "      <td>Busiest days</td>\n",
       "      <td>Most orders</td>\n",
       "    </tr>\n",
       "    <tr>\n",
       "      <th>32404855</th>\n",
       "      <td>49688</td>\n",
       "      <td>Fresh Foaming Cleanser</td>\n",
       "      <td>11</td>\n",
       "      <td>13.5</td>\n",
       "      <td>3401313</td>\n",
       "      <td>200377</td>\n",
       "      <td>1</td>\n",
       "      <td>4</td>\n",
       "      <td>11</td>\n",
       "      <td>NaN</td>\n",
       "      <td>5</td>\n",
       "      <td>0</td>\n",
       "      <td>both</td>\n",
       "      <td>Mid-range product</td>\n",
       "      <td>Least busy</td>\n",
       "      <td>Slowest days</td>\n",
       "      <td>Most orders</td>\n",
       "    </tr>\n",
       "    <tr>\n",
       "      <th>32404856</th>\n",
       "      <td>49688</td>\n",
       "      <td>Fresh Foaming Cleanser</td>\n",
       "      <td>11</td>\n",
       "      <td>13.5</td>\n",
       "      <td>809510</td>\n",
       "      <td>200873</td>\n",
       "      <td>5</td>\n",
       "      <td>3</td>\n",
       "      <td>8</td>\n",
       "      <td>15.0</td>\n",
       "      <td>12</td>\n",
       "      <td>0</td>\n",
       "      <td>both</td>\n",
       "      <td>Mid-range product</td>\n",
       "      <td>Regularly busy</td>\n",
       "      <td>Slowest days</td>\n",
       "      <td>Average orders</td>\n",
       "    </tr>\n",
       "    <tr>\n",
       "      <th>32404857</th>\n",
       "      <td>49688</td>\n",
       "      <td>Fresh Foaming Cleanser</td>\n",
       "      <td>11</td>\n",
       "      <td>13.5</td>\n",
       "      <td>2359893</td>\n",
       "      <td>200873</td>\n",
       "      <td>9</td>\n",
       "      <td>3</td>\n",
       "      <td>15</td>\n",
       "      <td>5.0</td>\n",
       "      <td>11</td>\n",
       "      <td>1</td>\n",
       "      <td>both</td>\n",
       "      <td>Mid-range product</td>\n",
       "      <td>Regularly busy</td>\n",
       "      <td>Slowest days</td>\n",
       "      <td>Most orders</td>\n",
       "    </tr>\n",
       "    <tr>\n",
       "      <th>32404858</th>\n",
       "      <td>49688</td>\n",
       "      <td>Fresh Foaming Cleanser</td>\n",
       "      <td>11</td>\n",
       "      <td>13.5</td>\n",
       "      <td>2385091</td>\n",
       "      <td>205926</td>\n",
       "      <td>11</td>\n",
       "      <td>1</td>\n",
       "      <td>15</td>\n",
       "      <td>6.0</td>\n",
       "      <td>35</td>\n",
       "      <td>0</td>\n",
       "      <td>both</td>\n",
       "      <td>Mid-range product</td>\n",
       "      <td>Regularly busy</td>\n",
       "      <td>Busiest days</td>\n",
       "      <td>Most orders</td>\n",
       "    </tr>\n",
       "  </tbody>\n",
       "</table>\n",
       "<p>32404859 rows × 17 columns</p>\n",
       "</div>"
      ],
      "text/plain": [
       "          product_id                product_name  department_id  prices  \\\n",
       "0                  1  Chocolate Sandwich Cookies             19     5.8   \n",
       "1                  1  Chocolate Sandwich Cookies             19     5.8   \n",
       "2                  1  Chocolate Sandwich Cookies             19     5.8   \n",
       "3                  1  Chocolate Sandwich Cookies             19     5.8   \n",
       "4                  1  Chocolate Sandwich Cookies             19     5.8   \n",
       "...              ...                         ...            ...     ...   \n",
       "32404854       49688      Fresh Foaming Cleanser             11    13.5   \n",
       "32404855       49688      Fresh Foaming Cleanser             11    13.5   \n",
       "32404856       49688      Fresh Foaming Cleanser             11    13.5   \n",
       "32404857       49688      Fresh Foaming Cleanser             11    13.5   \n",
       "32404858       49688      Fresh Foaming Cleanser             11    13.5   \n",
       "\n",
       "          order_id  user_id  order_number  orders_day_of_week  \\\n",
       "0          3139998      138            28                   6   \n",
       "1          1977647      138            30                   6   \n",
       "2           389851      709             2                   0   \n",
       "3           652770      764             1                   3   \n",
       "4          1813452      764             3                   4   \n",
       "...            ...      ...           ...                 ...   \n",
       "32404854   1788356   200215             2                   0   \n",
       "32404855   3401313   200377             1                   4   \n",
       "32404856    809510   200873             5                   3   \n",
       "32404857   2359893   200873             9                   3   \n",
       "32404858   2385091   205926            11                   1   \n",
       "\n",
       "          order_hour_of_day  days_since_prior_order  add_to_cart_order  \\\n",
       "0                        11                     3.0                  5   \n",
       "1                        17                    20.0                  1   \n",
       "2                        21                     6.0                 20   \n",
       "3                        13                     NaN                 10   \n",
       "4                        17                     9.0                 11   \n",
       "...                     ...                     ...                ...   \n",
       "32404854                  9                     5.0                 27   \n",
       "32404855                 11                     NaN                  5   \n",
       "32404856                  8                    15.0                 12   \n",
       "32404857                 15                     5.0                 11   \n",
       "32404858                 15                     6.0                 35   \n",
       "\n",
       "          reordered _merge    price_range_loc     busiest_day    busiest_days  \\\n",
       "0                 0   both  Mid-range product  Regularly busy  Regularly busy   \n",
       "1                 1   both  Mid-range product  Regularly busy  Regularly busy   \n",
       "2                 0   both  Mid-range product     Busiest day    Busiest days   \n",
       "3                 0   both  Mid-range product  Regularly busy    Slowest days   \n",
       "4                 1   both  Mid-range product      Least busy    Slowest days   \n",
       "...             ...    ...                ...             ...             ...   \n",
       "32404854          0   both  Mid-range product     Busiest day    Busiest days   \n",
       "32404855          0   both  Mid-range product      Least busy    Slowest days   \n",
       "32404856          0   both  Mid-range product  Regularly busy    Slowest days   \n",
       "32404857          1   both  Mid-range product  Regularly busy    Slowest days   \n",
       "32404858          0   both  Mid-range product  Regularly busy    Busiest days   \n",
       "\n",
       "         busiest_period_of_day  \n",
       "0                  Most orders  \n",
       "1               Average orders  \n",
       "2               Average orders  \n",
       "3                  Most orders  \n",
       "4               Average orders  \n",
       "...                        ...  \n",
       "32404854           Most orders  \n",
       "32404855           Most orders  \n",
       "32404856        Average orders  \n",
       "32404857           Most orders  \n",
       "32404858           Most orders  \n",
       "\n",
       "[32404859 rows x 17 columns]"
      ]
     },
     "execution_count": 4,
     "metadata": {},
     "output_type": "execute_result"
    }
   ],
   "source": [
    "# Dropping the \"aisle_id\" column from the ords_prods_merge dataframe\n",
    "ords_prods_merge.drop(columns = ['aisle_id'])"
   ]
  },
  {
   "cell_type": "markdown",
   "id": "c41f8c2f-868f-4338-ba52-a90b1ad69fb2",
   "metadata": {},
   "source": [
    "## 02. Calculate the Mean of Order Number"
   ]
  },
  {
   "cell_type": "code",
   "execution_count": null,
   "id": "5ae6affb-6f80-4e71-8483-be3b4ebbe3a5",
   "metadata": {},
   "outputs": [],
   "source": [
    "# Use groupby() and agg() functions to calculate mean of user_order_number\n",
    "ords_prods_merge.groupby('department_id').agg({'order_number': ['mean']})"
   ]
  },
  {
   "cell_type": "markdown",
   "id": "6afc522e-f734-419d-9a34-676467248413",
   "metadata": {},
   "source": [
    "## 03. Analyze the result. How do the results for the entire dataframe differ from those of the subset? "
   ]
  },
  {
   "cell_type": "markdown",
   "id": "6b773866-d998-4dbd-ae6d-0e784877efbe",
   "metadata": {},
   "source": [
    "#### \n",
    "When you compare the mean order numbers for the entire dataset with those of a subset, the most apparent observation is the increased number of departments listed. This suggests that the overall mean order numbers vary across departments when considering the entire dataset due to differences in the count of department IDs"
   ]
  },
  {
   "cell_type": "markdown",
   "id": "ae31d931-9f30-454e-a6bd-961684a0c27c",
   "metadata": {},
   "source": [
    "## 04. Create Loyalty Flag for Exisiting Customers"
   ]
  },
  {
   "cell_type": "code",
   "execution_count": null,
   "id": "bad39239-66de-4b4b-9f02-11bffd2b8e8a",
   "metadata": {},
   "outputs": [],
   "source": [
    "# Use groupby and transform() functions with np.max argument to determine maximum order number for each user\n",
    "ords_prods_merge['max_order'] = ords_prods_merge.groupby(['user_id'])['order_number'].transform(np.max)"
   ]
  },
  {
   "cell_type": "code",
   "execution_count": null,
   "id": "c40ca2a2-14e5-4ac2-a5d2-0b1c179978fd",
   "metadata": {},
   "outputs": [],
   "source": [
    "# View updated data frame\n",
    "ords_prods_merge.head(20)"
   ]
  },
  {
   "cell_type": "code",
   "execution_count": null,
   "id": "4fe1a761-130d-4fd5-9ef8-527fa460f652",
   "metadata": {},
   "outputs": [],
   "source": [
    "# Use loc function to make loyalty flag column with given criteria\n",
    "ords_prods_merge.loc[ords_prods_merge['max_order'] > 40, 'loyalty_flag'] = 'Loyal customer'"
   ]
  },
  {
   "cell_type": "code",
   "execution_count": null,
   "id": "ee75bdad-2602-40b8-bcfb-9c8748608115",
   "metadata": {},
   "outputs": [],
   "source": [
    "ords_prods_merge.loc[(ords_prods_merge['max_order'] <= 40) & (ords_prods_merge['max_order'] > 10), 'loyalty_flag'] = 'Regular customer'"
   ]
  },
  {
   "cell_type": "code",
   "execution_count": null,
   "id": "ce5ca52c-0ffe-409b-a7ba-4b79bd475c58",
   "metadata": {},
   "outputs": [],
   "source": [
    "ords_prods_merge.loc[ords_prods_merge['max_order'] <= 10, 'loyalty_flag'] = 'New customer'"
   ]
  },
  {
   "cell_type": "code",
   "execution_count": null,
   "id": "29842274-566c-4586-b11c-f89f08c4df6b",
   "metadata": {},
   "outputs": [],
   "source": [
    "# Check frequency of values in new loyalty flag column\n",
    "ords_prods_merge['loyalty_flag'].value_counts(dropna = False)"
   ]
  },
  {
   "cell_type": "code",
   "execution_count": null,
   "id": "17c878a7-64fc-4f60-b40a-eca62eb16919",
   "metadata": {},
   "outputs": [],
   "source": [
    "# View updated data frame\n",
    "ords_prods_merge.head()"
   ]
  },
  {
   "cell_type": "markdown",
   "id": "74b81cbb-0100-4b6a-ab0a-2ac22e740ab5",
   "metadata": {},
   "source": [
    "## 05. finding the spending habits of loyality group"
   ]
  },
  {
   "cell_type": "code",
   "execution_count": null,
   "id": "9a59b035-972d-4690-8265-bf50d18e8277",
   "metadata": {},
   "outputs": [],
   "source": [
    "# Use groupby and agg() to determine basic statisitcs of spending habits by loyalty group\n",
    "ords_prods_merge.groupby('loyalty_flag').agg({'prices' : ['mean', 'min', 'max']})"
   ]
  },
  {
   "cell_type": "markdown",
   "id": "c2bd6fe5-dcef-4c71-8d51-92b20726c1d9",
   "metadata": {},
   "source": [
    "#### The average price of a product bought by a loyal customer is lower than the price of a product purchased by both regular and new customers."
   ]
  },
  {
   "cell_type": "markdown",
   "id": "6875a314-b616-4f2c-81bc-1693f0baf056",
   "metadata": {},
   "source": [
    "## 06.  Creating a spending flag for each user based on the average price across all their orders ..”"
   ]
  },
  {
   "cell_type": "code",
   "execution_count": null,
   "id": "0f2c3a81-5104-4734-bfcc-e1d81a0fd9ef",
   "metadata": {},
   "outputs": [],
   "source": [
    "# Use transform() to determine the mean price of products purchased by each user\n",
    "ords_prods_merge['mean_product_price'] = ords_prods_merge.groupby(['user_id'])['prices'].transform(np.mean)"
   ]
  },
  {
   "cell_type": "code",
   "execution_count": null,
   "id": "92f46585-5afa-49b6-b7dd-440c4310772c",
   "metadata": {},
   "outputs": [],
   "source": [
    "# View the columns \n",
    "ords_prods_merge[['user_id', 'mean_product_price']].head(20)"
   ]
  },
  {
   "cell_type": "code",
   "execution_count": null,
   "id": "144c5dee-f3f5-4055-96ae-6306ad8718cb",
   "metadata": {},
   "outputs": [],
   "source": [
    "# Create spending_flag column with given criteria using loc() function\n",
    "ords_prods_merge.loc[ords_prods_merge['mean_product_price'] >= 10, 'spending_flag'] = 'High spender'"
   ]
  },
  {
   "cell_type": "code",
   "execution_count": null,
   "id": "c99718e1-bab9-4477-800f-98c31fa7ef94",
   "metadata": {},
   "outputs": [],
   "source": [
    "ords_prods_merge.loc[ords_prods_merge['mean_product_price'] < 10, 'spending_flag'] = 'Low spender'"
   ]
  },
  {
   "cell_type": "code",
   "execution_count": null,
   "id": "12c27b7d-bcd5-4725-9fba-285c1f5b5e72",
   "metadata": {},
   "outputs": [],
   "source": [
    "# Checking the new spending_flag column\n",
    "ords_prods_merge['spending_flag'].value_counts(dropna = False)"
   ]
  },
  {
   "cell_type": "code",
   "execution_count": null,
   "id": "f31b7863-bc06-4497-b36a-456434620f0c",
   "metadata": {},
   "outputs": [],
   "source": [
    "# View relevant columns of updated data frame\n",
    "ords_prods_merge[['user_id', 'mean_product_price', 'spending_flag']].head(20)"
   ]
  },
  {
   "cell_type": "markdown",
   "id": "d9879eec-e2c4-4cc5-8af9-cc07dc160d60",
   "metadata": {},
   "source": [
    "## 07. Determination of frequent and non-frequent users"
   ]
  },
  {
   "cell_type": "code",
   "execution_count": null,
   "id": "386a5e00-4954-4030-93a0-e4ce49843550",
   "metadata": {},
   "outputs": [],
   "source": [
    "# Use groupby and transform to determine median number of days between orders\n",
    "ords_prods_merge['median_days_between_orders'] = ords_prods_merge.groupby(['user_id'])['days_since_prior_order'].transform(np.median)"
   ]
  },
  {
   "cell_type": "code",
   "execution_count": null,
   "id": "32aeffdd-c50b-4951-be09-78e760c9de8a",
   "metadata": {},
   "outputs": [],
   "source": [
    "# Create order frequency flag based on given criteria using loc function\n",
    "ords_prods_merge.loc[ords_prods_merge['median_days_between_orders'] > 20, 'order_frequency'] = 'Non-frequent customer'\n"
   ]
  },
  {
   "cell_type": "code",
   "execution_count": null,
   "id": "a3b845b8-6901-4739-adc4-a4be8681acbb",
   "metadata": {},
   "outputs": [],
   "source": [
    "ords_prods_merge.loc[(ords_prods_merge['median_days_between_orders'] <= 20) & (ords_prods_merge['median_days_between_orders'] > 10), 'order_frequency'] = 'Regular customer'"
   ]
  },
  {
   "cell_type": "code",
   "execution_count": null,
   "id": "ef5c3386-83df-497d-b353-62192736ee86",
   "metadata": {},
   "outputs": [],
   "source": [
    "ords_prods_merge.loc[ords_prods_merge['median_days_between_orders'] <= 10, 'order_frequency'] = 'Frequent customer'"
   ]
  },
  {
   "cell_type": "code",
   "execution_count": null,
   "id": "8aac2e61-c4bf-4b17-a365-ccafb1ba2a2f",
   "metadata": {},
   "outputs": [],
   "source": [
    "# Checking the value counts of new order_frequency column\n",
    "ords_prods_merge['order_frequency'].value_counts(dropna = False)"
   ]
  },
  {
   "cell_type": "markdown",
   "id": "403fe0b8-6e52-480e-aefc-fe67354a32f7",
   "metadata": {},
   "source": [
    "#### \n",
    "It appears that some rows were left unlabeled. One possible reason for this could be that certain users have made only a single order"
   ]
  },
  {
   "cell_type": "code",
   "execution_count": null,
   "id": "3e1dd8a1-c41c-4d3a-9599-f8e71944c00b",
   "metadata": {},
   "outputs": [],
   "source": [
    "# View the columns of updated data frame\n",
    "ords_prods_merge[['user_id', 'days_since_prior_order', 'median_days_between_orders', 'order_frequency']].head(25)"
   ]
  },
  {
   "cell_type": "markdown",
   "id": "54ea6c1a-0dbc-4e0d-bc72-a423c586b7b9",
   "metadata": {},
   "source": [
    "## 09. Export the dataframe as a pickle file"
   ]
  },
  {
   "cell_type": "code",
   "execution_count": null,
   "id": "f9a5aa67-f3b5-45dc-a01a-7c54752bcf17",
   "metadata": {},
   "outputs": [],
   "source": [
    "# Export derived data frame as pickle file\n",
    "ords_prods_merge.to_pickle(os.path.join(path, '02 Data','Prepared Data', 'ords_prods_grouped.pkl'))"
   ]
  },
  {
   "cell_type": "code",
   "execution_count": null,
   "id": "f260dc8d-04d8-4e4d-83d5-eacebdc6d28b",
   "metadata": {},
   "outputs": [],
   "source": []
  }
 ],
 "metadata": {
  "kernelspec": {
   "display_name": "Python 3 (ipykernel)",
   "language": "python",
   "name": "python3"
  },
  "language_info": {
   "codemirror_mode": {
    "name": "ipython",
    "version": 3
   },
   "file_extension": ".py",
   "mimetype": "text/x-python",
   "name": "python",
   "nbconvert_exporter": "python",
   "pygments_lexer": "ipython3",
   "version": "3.11.7"
  }
 },
 "nbformat": 4,
 "nbformat_minor": 5
}
